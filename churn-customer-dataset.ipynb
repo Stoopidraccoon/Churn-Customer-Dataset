{
 "cells": [
  {
   "cell_type": "markdown",
   "id": "9ae672db",
   "metadata": {
    "_cell_guid": "b1076dfc-b9ad-4769-8c92-a6c4dae69d19",
    "_uuid": "8f2839f25d086af736a60e9eeb907d3b93b6e0e5",
    "papermill": {
     "duration": 0.003257,
     "end_time": "2025-07-29T17:08:14.233020",
     "exception": false,
     "start_time": "2025-07-29T17:08:14.229763",
     "status": "completed"
    },
    "tags": []
   },
   "source": [
    "**Churn Customer Dataset**\n",
    " \n",
    " \n",
    " **Introduction and Problem Statement**\n",
    "Banks are constantly trying to retain their customers, as acquiring new ones is far more costly. One major challenge is customer churn, where customers stop using a bank’s services, often without warning.\n",
    "\n",
    "The objective of this project is to predict which customers are likely to leave the bank, using machine learning classification models. By analyzing customer attributes like credit score, location, activity, and balance, we aim to find patterns that indicate churn.\n",
    "\n",
    "This model helps banks:\n",
    "\n",
    "Identify at-risk customers\n",
    "\n",
    "Take action to retain them\n",
    "\n",
    "Improve customer satisfaction and revenue\n",
    "\n",
    "**Dataset Understanding and Description**\n",
    "Dataset: Churn Modelling Dataset (available on Kaggle)\n",
    "\n",
    "Total Records: Approx 10,000 bank customers\n",
    "\n",
    "Target Variable: Exited\n",
    "\n",
    "1 → Customer left the bank\n",
    "\n",
    "0 → Customer stayed\n",
    "\n",
    "**Key Features**\n",
    "Column Name\t       Description\n",
    "CustomerId\t       Unique ID of customer\n",
    "Surname\t           Last name of customer\n",
    "CreditScore\t       Credit score of the customer\n",
    "Geography\t       Country (e.g., France, Germany, Spain)\n",
    "Gender\t           Male or Female\n",
    "Age\t               Customer’s age\n",
    "Tenure\t           Number of years with the bank\n",
    "Balance\t           Bank account balance\n",
    "NumOfProducts\t   Number of bank products held\n",
    "HasCrCard\t       Whether customer has a credit card (1/0)\n",
    "IsActiveMember\t   Activity level (1 = Active, 0 = Inactive)\n",
    "EstimatedSalary    Estimated annual salary\n",
    "Exited\t           Target variable: 1 = Churned, 0 = Retained\n",
    "\n",
    "- Categorical features like Geography and Gender are to be encoded before model training.\n"
   ]
  },
  {
   "cell_type": "markdown",
   "id": "1d60d975",
   "metadata": {
    "papermill": {
     "duration": 0.002401,
     "end_time": "2025-07-29T17:08:14.238806",
     "exception": false,
     "start_time": "2025-07-29T17:08:14.236405",
     "status": "completed"
    },
    "tags": []
   },
   "source": []
  },
  {
   "cell_type": "code",
   "execution_count": 1,
   "id": "de851e8d",
   "metadata": {
    "execution": {
     "iopub.execute_input": "2025-07-29T17:08:14.245111Z",
     "iopub.status.busy": "2025-07-29T17:08:14.244663Z",
     "iopub.status.idle": "2025-07-29T17:08:18.545564Z",
     "shell.execute_reply": "2025-07-29T17:08:18.544642Z"
    },
    "papermill": {
     "duration": 4.306206,
     "end_time": "2025-07-29T17:08:18.547452",
     "exception": false,
     "start_time": "2025-07-29T17:08:14.241246",
     "status": "completed"
    },
    "tags": []
   },
   "outputs": [],
   "source": [
    "# 1. Import libraries\n",
    "import pandas as pd\n",
    "from sklearn.model_selection import train_test_split\n",
    "from sklearn.preprocessing import LabelEncoder, OneHotEncoder\n",
    "from sklearn.linear_model import LogisticRegression\n",
    "from sklearn.metrics import accuracy_score, confusion_matrix, classification_report\n",
    "import matplotlib.pyplot as plt\n",
    "import seaborn as sns\n",
    "import numpy as np"
   ]
  },
  {
   "cell_type": "code",
   "execution_count": 2,
   "id": "fbcdb7e8",
   "metadata": {
    "execution": {
     "iopub.execute_input": "2025-07-29T17:08:18.553800Z",
     "iopub.status.busy": "2025-07-29T17:08:18.553378Z",
     "iopub.status.idle": "2025-07-29T17:08:18.628356Z",
     "shell.execute_reply": "2025-07-29T17:08:18.627480Z"
    },
    "papermill": {
     "duration": 0.08007,
     "end_time": "2025-07-29T17:08:18.630133",
     "exception": false,
     "start_time": "2025-07-29T17:08:18.550063",
     "status": "completed"
    },
    "tags": []
   },
   "outputs": [
    {
     "data": {
      "text/html": [
       "<div>\n",
       "<style scoped>\n",
       "    .dataframe tbody tr th:only-of-type {\n",
       "        vertical-align: middle;\n",
       "    }\n",
       "\n",
       "    .dataframe tbody tr th {\n",
       "        vertical-align: top;\n",
       "    }\n",
       "\n",
       "    .dataframe thead th {\n",
       "        text-align: right;\n",
       "    }\n",
       "</style>\n",
       "<table border=\"1\" class=\"dataframe\">\n",
       "  <thead>\n",
       "    <tr style=\"text-align: right;\">\n",
       "      <th></th>\n",
       "      <th>RowNumber</th>\n",
       "      <th>CustomerId</th>\n",
       "      <th>Surname</th>\n",
       "      <th>CreditScore</th>\n",
       "      <th>Geography</th>\n",
       "      <th>Gender</th>\n",
       "      <th>Age</th>\n",
       "      <th>Tenure</th>\n",
       "      <th>Balance</th>\n",
       "      <th>NumOfProducts</th>\n",
       "      <th>HasCrCard</th>\n",
       "      <th>IsActiveMember</th>\n",
       "      <th>EstimatedSalary</th>\n",
       "      <th>Exited</th>\n",
       "    </tr>\n",
       "  </thead>\n",
       "  <tbody>\n",
       "    <tr>\n",
       "      <th>0</th>\n",
       "      <td>1</td>\n",
       "      <td>15634602</td>\n",
       "      <td>Hargrave</td>\n",
       "      <td>619</td>\n",
       "      <td>France</td>\n",
       "      <td>Female</td>\n",
       "      <td>42</td>\n",
       "      <td>2</td>\n",
       "      <td>0.00</td>\n",
       "      <td>1</td>\n",
       "      <td>1</td>\n",
       "      <td>1</td>\n",
       "      <td>101348.88</td>\n",
       "      <td>1</td>\n",
       "    </tr>\n",
       "    <tr>\n",
       "      <th>1</th>\n",
       "      <td>2</td>\n",
       "      <td>15647311</td>\n",
       "      <td>Hill</td>\n",
       "      <td>608</td>\n",
       "      <td>Spain</td>\n",
       "      <td>Female</td>\n",
       "      <td>41</td>\n",
       "      <td>1</td>\n",
       "      <td>83807.86</td>\n",
       "      <td>1</td>\n",
       "      <td>0</td>\n",
       "      <td>1</td>\n",
       "      <td>112542.58</td>\n",
       "      <td>0</td>\n",
       "    </tr>\n",
       "    <tr>\n",
       "      <th>2</th>\n",
       "      <td>3</td>\n",
       "      <td>15619304</td>\n",
       "      <td>Onio</td>\n",
       "      <td>502</td>\n",
       "      <td>France</td>\n",
       "      <td>Female</td>\n",
       "      <td>42</td>\n",
       "      <td>8</td>\n",
       "      <td>159660.80</td>\n",
       "      <td>3</td>\n",
       "      <td>1</td>\n",
       "      <td>0</td>\n",
       "      <td>113931.57</td>\n",
       "      <td>1</td>\n",
       "    </tr>\n",
       "    <tr>\n",
       "      <th>3</th>\n",
       "      <td>4</td>\n",
       "      <td>15701354</td>\n",
       "      <td>Boni</td>\n",
       "      <td>699</td>\n",
       "      <td>France</td>\n",
       "      <td>Female</td>\n",
       "      <td>39</td>\n",
       "      <td>1</td>\n",
       "      <td>0.00</td>\n",
       "      <td>2</td>\n",
       "      <td>0</td>\n",
       "      <td>0</td>\n",
       "      <td>93826.63</td>\n",
       "      <td>0</td>\n",
       "    </tr>\n",
       "    <tr>\n",
       "      <th>4</th>\n",
       "      <td>5</td>\n",
       "      <td>15737888</td>\n",
       "      <td>Mitchell</td>\n",
       "      <td>850</td>\n",
       "      <td>Spain</td>\n",
       "      <td>Female</td>\n",
       "      <td>43</td>\n",
       "      <td>2</td>\n",
       "      <td>125510.82</td>\n",
       "      <td>1</td>\n",
       "      <td>1</td>\n",
       "      <td>1</td>\n",
       "      <td>79084.10</td>\n",
       "      <td>0</td>\n",
       "    </tr>\n",
       "  </tbody>\n",
       "</table>\n",
       "</div>"
      ],
      "text/plain": [
       "   RowNumber  CustomerId   Surname  CreditScore Geography  Gender  Age  \\\n",
       "0          1    15634602  Hargrave          619    France  Female   42   \n",
       "1          2    15647311      Hill          608     Spain  Female   41   \n",
       "2          3    15619304      Onio          502    France  Female   42   \n",
       "3          4    15701354      Boni          699    France  Female   39   \n",
       "4          5    15737888  Mitchell          850     Spain  Female   43   \n",
       "\n",
       "   Tenure    Balance  NumOfProducts  HasCrCard  IsActiveMember  \\\n",
       "0       2       0.00              1          1               1   \n",
       "1       1   83807.86              1          0               1   \n",
       "2       8  159660.80              3          1               0   \n",
       "3       1       0.00              2          0               0   \n",
       "4       2  125510.82              1          1               1   \n",
       "\n",
       "   EstimatedSalary  Exited  \n",
       "0        101348.88       1  \n",
       "1        112542.58       0  \n",
       "2        113931.57       1  \n",
       "3         93826.63       0  \n",
       "4         79084.10       0  "
      ]
     },
     "execution_count": 2,
     "metadata": {},
     "output_type": "execute_result"
    }
   ],
   "source": [
    "# Load dataset (assuming 'Churn_Modelling.csv' uploaded in Kaggle)\n",
    "df = pd.read_csv('/kaggle/input/churn-modelling/Churn_Modelling.csv')\n",
    "df.head()"
   ]
  },
  {
   "cell_type": "code",
   "execution_count": 3,
   "id": "5e903251",
   "metadata": {
    "execution": {
     "iopub.execute_input": "2025-07-29T17:08:18.637268Z",
     "iopub.status.busy": "2025-07-29T17:08:18.636974Z",
     "iopub.status.idle": "2025-07-29T17:08:18.656751Z",
     "shell.execute_reply": "2025-07-29T17:08:18.655856Z"
    },
    "papermill": {
     "duration": 0.025251,
     "end_time": "2025-07-29T17:08:18.658250",
     "exception": false,
     "start_time": "2025-07-29T17:08:18.632999",
     "status": "completed"
    },
    "tags": []
   },
   "outputs": [
    {
     "data": {
      "text/html": [
       "<div>\n",
       "<style scoped>\n",
       "    .dataframe tbody tr th:only-of-type {\n",
       "        vertical-align: middle;\n",
       "    }\n",
       "\n",
       "    .dataframe tbody tr th {\n",
       "        vertical-align: top;\n",
       "    }\n",
       "\n",
       "    .dataframe thead th {\n",
       "        text-align: right;\n",
       "    }\n",
       "</style>\n",
       "<table border=\"1\" class=\"dataframe\">\n",
       "  <thead>\n",
       "    <tr style=\"text-align: right;\">\n",
       "      <th></th>\n",
       "      <th>CreditScore</th>\n",
       "      <th>Geography</th>\n",
       "      <th>Gender</th>\n",
       "      <th>Age</th>\n",
       "      <th>Tenure</th>\n",
       "      <th>Balance</th>\n",
       "      <th>NumOfProducts</th>\n",
       "      <th>HasCrCard</th>\n",
       "      <th>IsActiveMember</th>\n",
       "      <th>EstimatedSalary</th>\n",
       "      <th>Exited</th>\n",
       "    </tr>\n",
       "  </thead>\n",
       "  <tbody>\n",
       "    <tr>\n",
       "      <th>0</th>\n",
       "      <td>619</td>\n",
       "      <td>France</td>\n",
       "      <td>Female</td>\n",
       "      <td>42</td>\n",
       "      <td>2</td>\n",
       "      <td>0.00</td>\n",
       "      <td>1</td>\n",
       "      <td>1</td>\n",
       "      <td>1</td>\n",
       "      <td>101348.88</td>\n",
       "      <td>1</td>\n",
       "    </tr>\n",
       "    <tr>\n",
       "      <th>1</th>\n",
       "      <td>608</td>\n",
       "      <td>Spain</td>\n",
       "      <td>Female</td>\n",
       "      <td>41</td>\n",
       "      <td>1</td>\n",
       "      <td>83807.86</td>\n",
       "      <td>1</td>\n",
       "      <td>0</td>\n",
       "      <td>1</td>\n",
       "      <td>112542.58</td>\n",
       "      <td>0</td>\n",
       "    </tr>\n",
       "    <tr>\n",
       "      <th>2</th>\n",
       "      <td>502</td>\n",
       "      <td>France</td>\n",
       "      <td>Female</td>\n",
       "      <td>42</td>\n",
       "      <td>8</td>\n",
       "      <td>159660.80</td>\n",
       "      <td>3</td>\n",
       "      <td>1</td>\n",
       "      <td>0</td>\n",
       "      <td>113931.57</td>\n",
       "      <td>1</td>\n",
       "    </tr>\n",
       "    <tr>\n",
       "      <th>3</th>\n",
       "      <td>699</td>\n",
       "      <td>France</td>\n",
       "      <td>Female</td>\n",
       "      <td>39</td>\n",
       "      <td>1</td>\n",
       "      <td>0.00</td>\n",
       "      <td>2</td>\n",
       "      <td>0</td>\n",
       "      <td>0</td>\n",
       "      <td>93826.63</td>\n",
       "      <td>0</td>\n",
       "    </tr>\n",
       "    <tr>\n",
       "      <th>4</th>\n",
       "      <td>850</td>\n",
       "      <td>Spain</td>\n",
       "      <td>Female</td>\n",
       "      <td>43</td>\n",
       "      <td>2</td>\n",
       "      <td>125510.82</td>\n",
       "      <td>1</td>\n",
       "      <td>1</td>\n",
       "      <td>1</td>\n",
       "      <td>79084.10</td>\n",
       "      <td>0</td>\n",
       "    </tr>\n",
       "  </tbody>\n",
       "</table>\n",
       "</div>"
      ],
      "text/plain": [
       "   CreditScore Geography  Gender  Age  Tenure    Balance  NumOfProducts  \\\n",
       "0          619    France  Female   42       2       0.00              1   \n",
       "1          608     Spain  Female   41       1   83807.86              1   \n",
       "2          502    France  Female   42       8  159660.80              3   \n",
       "3          699    France  Female   39       1       0.00              2   \n",
       "4          850     Spain  Female   43       2  125510.82              1   \n",
       "\n",
       "   HasCrCard  IsActiveMember  EstimatedSalary  Exited  \n",
       "0          1               1        101348.88       1  \n",
       "1          0               1        112542.58       0  \n",
       "2          1               0        113931.57       1  \n",
       "3          0               0         93826.63       0  \n",
       "4          1               1         79084.10       0  "
      ]
     },
     "execution_count": 3,
     "metadata": {},
     "output_type": "execute_result"
    }
   ],
   "source": [
    "# Drop unnecessary columns\n",
    "df.drop(['RowNumber', 'CustomerId', 'Surname'], axis=1, inplace=True)\n",
    "df.head()"
   ]
  },
  {
   "cell_type": "code",
   "execution_count": 4,
   "id": "54665969",
   "metadata": {
    "execution": {
     "iopub.execute_input": "2025-07-29T17:08:18.665921Z",
     "iopub.status.busy": "2025-07-29T17:08:18.665636Z",
     "iopub.status.idle": "2025-07-29T17:08:18.682378Z",
     "shell.execute_reply": "2025-07-29T17:08:18.681265Z"
    },
    "papermill": {
     "duration": 0.022422,
     "end_time": "2025-07-29T17:08:18.684349",
     "exception": false,
     "start_time": "2025-07-29T17:08:18.661927",
     "status": "completed"
    },
    "tags": []
   },
   "outputs": [],
   "source": [
    "# Encode \n",
    "# For Gender: Label Encoding (Male=1, Female=0)\n",
    "le = LabelEncoder()\n",
    "df['Gender'] = le.fit_transform(df['Gender'])\n",
    "\n",
    "# For Geography: One-Hot Encoding\n",
    "df = pd.get_dummies(df, columns=['Geography'], drop_first=True)"
   ]
  },
  {
   "cell_type": "code",
   "execution_count": 5,
   "id": "0efb597f",
   "metadata": {
    "execution": {
     "iopub.execute_input": "2025-07-29T17:08:18.691279Z",
     "iopub.status.busy": "2025-07-29T17:08:18.690950Z",
     "iopub.status.idle": "2025-07-29T17:08:18.698400Z",
     "shell.execute_reply": "2025-07-29T17:08:18.697637Z"
    },
    "papermill": {
     "duration": 0.012657,
     "end_time": "2025-07-29T17:08:18.700032",
     "exception": false,
     "start_time": "2025-07-29T17:08:18.687375",
     "status": "completed"
    },
    "tags": []
   },
   "outputs": [],
   "source": [
    "# Prepare features and target\n",
    "X = df.drop('Exited', axis=1)  # 'Exited' is target: 1=churn, 0=not churn\n",
    "y = df['Exited']\n"
   ]
  },
  {
   "cell_type": "code",
   "execution_count": 6,
   "id": "98bf0f2e",
   "metadata": {
    "execution": {
     "iopub.execute_input": "2025-07-29T17:08:18.706714Z",
     "iopub.status.busy": "2025-07-29T17:08:18.706455Z",
     "iopub.status.idle": "2025-07-29T17:08:18.713843Z",
     "shell.execute_reply": "2025-07-29T17:08:18.713089Z"
    },
    "papermill": {
     "duration": 0.012426,
     "end_time": "2025-07-29T17:08:18.715366",
     "exception": false,
     "start_time": "2025-07-29T17:08:18.702940",
     "status": "completed"
    },
    "tags": []
   },
   "outputs": [],
   "source": [
    "# Split dataset into train and test\n",
    "X_train, X_test, y_train, y_test = train_test_split(X, y, test_size=0.2, random_state=42)\n"
   ]
  },
  {
   "cell_type": "code",
   "execution_count": 7,
   "id": "8901fdf3",
   "metadata": {
    "execution": {
     "iopub.execute_input": "2025-07-29T17:08:18.722330Z",
     "iopub.status.busy": "2025-07-29T17:08:18.722070Z",
     "iopub.status.idle": "2025-07-29T17:08:18.911337Z",
     "shell.execute_reply": "2025-07-29T17:08:18.910158Z"
    },
    "papermill": {
     "duration": 0.195152,
     "end_time": "2025-07-29T17:08:18.913442",
     "exception": false,
     "start_time": "2025-07-29T17:08:18.718290",
     "status": "completed"
    },
    "tags": []
   },
   "outputs": [
    {
     "data": {
      "text/html": [
       "<style>#sk-container-id-1 {color: black;background-color: white;}#sk-container-id-1 pre{padding: 0;}#sk-container-id-1 div.sk-toggleable {background-color: white;}#sk-container-id-1 label.sk-toggleable__label {cursor: pointer;display: block;width: 100%;margin-bottom: 0;padding: 0.3em;box-sizing: border-box;text-align: center;}#sk-container-id-1 label.sk-toggleable__label-arrow:before {content: \"▸\";float: left;margin-right: 0.25em;color: #696969;}#sk-container-id-1 label.sk-toggleable__label-arrow:hover:before {color: black;}#sk-container-id-1 div.sk-estimator:hover label.sk-toggleable__label-arrow:before {color: black;}#sk-container-id-1 div.sk-toggleable__content {max-height: 0;max-width: 0;overflow: hidden;text-align: left;background-color: #f0f8ff;}#sk-container-id-1 div.sk-toggleable__content pre {margin: 0.2em;color: black;border-radius: 0.25em;background-color: #f0f8ff;}#sk-container-id-1 input.sk-toggleable__control:checked~div.sk-toggleable__content {max-height: 200px;max-width: 100%;overflow: auto;}#sk-container-id-1 input.sk-toggleable__control:checked~label.sk-toggleable__label-arrow:before {content: \"▾\";}#sk-container-id-1 div.sk-estimator input.sk-toggleable__control:checked~label.sk-toggleable__label {background-color: #d4ebff;}#sk-container-id-1 div.sk-label input.sk-toggleable__control:checked~label.sk-toggleable__label {background-color: #d4ebff;}#sk-container-id-1 input.sk-hidden--visually {border: 0;clip: rect(1px 1px 1px 1px);clip: rect(1px, 1px, 1px, 1px);height: 1px;margin: -1px;overflow: hidden;padding: 0;position: absolute;width: 1px;}#sk-container-id-1 div.sk-estimator {font-family: monospace;background-color: #f0f8ff;border: 1px dotted black;border-radius: 0.25em;box-sizing: border-box;margin-bottom: 0.5em;}#sk-container-id-1 div.sk-estimator:hover {background-color: #d4ebff;}#sk-container-id-1 div.sk-parallel-item::after {content: \"\";width: 100%;border-bottom: 1px solid gray;flex-grow: 1;}#sk-container-id-1 div.sk-label:hover label.sk-toggleable__label {background-color: #d4ebff;}#sk-container-id-1 div.sk-serial::before {content: \"\";position: absolute;border-left: 1px solid gray;box-sizing: border-box;top: 0;bottom: 0;left: 50%;z-index: 0;}#sk-container-id-1 div.sk-serial {display: flex;flex-direction: column;align-items: center;background-color: white;padding-right: 0.2em;padding-left: 0.2em;position: relative;}#sk-container-id-1 div.sk-item {position: relative;z-index: 1;}#sk-container-id-1 div.sk-parallel {display: flex;align-items: stretch;justify-content: center;background-color: white;position: relative;}#sk-container-id-1 div.sk-item::before, #sk-container-id-1 div.sk-parallel-item::before {content: \"\";position: absolute;border-left: 1px solid gray;box-sizing: border-box;top: 0;bottom: 0;left: 50%;z-index: -1;}#sk-container-id-1 div.sk-parallel-item {display: flex;flex-direction: column;z-index: 1;position: relative;background-color: white;}#sk-container-id-1 div.sk-parallel-item:first-child::after {align-self: flex-end;width: 50%;}#sk-container-id-1 div.sk-parallel-item:last-child::after {align-self: flex-start;width: 50%;}#sk-container-id-1 div.sk-parallel-item:only-child::after {width: 0;}#sk-container-id-1 div.sk-dashed-wrapped {border: 1px dashed gray;margin: 0 0.4em 0.5em 0.4em;box-sizing: border-box;padding-bottom: 0.4em;background-color: white;}#sk-container-id-1 div.sk-label label {font-family: monospace;font-weight: bold;display: inline-block;line-height: 1.2em;}#sk-container-id-1 div.sk-label-container {text-align: center;}#sk-container-id-1 div.sk-container {/* jupyter's `normalize.less` sets `[hidden] { display: none; }` but bootstrap.min.css set `[hidden] { display: none !important; }` so we also need the `!important` here to be able to override the default hidden behavior on the sphinx rendered scikit-learn.org. See: https://github.com/scikit-learn/scikit-learn/issues/21755 */display: inline-block !important;position: relative;}#sk-container-id-1 div.sk-text-repr-fallback {display: none;}</style><div id=\"sk-container-id-1\" class=\"sk-top-container\"><div class=\"sk-text-repr-fallback\"><pre>LogisticRegression(max_iter=1000)</pre><b>In a Jupyter environment, please rerun this cell to show the HTML representation or trust the notebook. <br />On GitHub, the HTML representation is unable to render, please try loading this page with nbviewer.org.</b></div><div class=\"sk-container\" hidden><div class=\"sk-item\"><div class=\"sk-estimator sk-toggleable\"><input class=\"sk-toggleable__control sk-hidden--visually\" id=\"sk-estimator-id-1\" type=\"checkbox\" checked><label for=\"sk-estimator-id-1\" class=\"sk-toggleable__label sk-toggleable__label-arrow\">LogisticRegression</label><div class=\"sk-toggleable__content\"><pre>LogisticRegression(max_iter=1000)</pre></div></div></div></div></div>"
      ],
      "text/plain": [
       "LogisticRegression(max_iter=1000)"
      ]
     },
     "execution_count": 7,
     "metadata": {},
     "output_type": "execute_result"
    }
   ],
   "source": [
    "# Train Logistic Regression model\n",
    "model = LogisticRegression(max_iter=1000)\n",
    "model.fit(X_train, y_train)"
   ]
  },
  {
   "cell_type": "code",
   "execution_count": 8,
   "id": "5ddc3bea",
   "metadata": {
    "execution": {
     "iopub.execute_input": "2025-07-29T17:08:18.927622Z",
     "iopub.status.busy": "2025-07-29T17:08:18.927228Z",
     "iopub.status.idle": "2025-07-29T17:08:18.939826Z",
     "shell.execute_reply": "2025-07-29T17:08:18.937214Z"
    },
    "papermill": {
     "duration": 0.022032,
     "end_time": "2025-07-29T17:08:18.941735",
     "exception": false,
     "start_time": "2025-07-29T17:08:18.919703",
     "status": "completed"
    },
    "tags": []
   },
   "outputs": [],
   "source": [
    "# Predictions\n",
    "y_pred = model.predict(X_test)"
   ]
  },
  {
   "cell_type": "code",
   "execution_count": 9,
   "id": "800a9aee",
   "metadata": {
    "execution": {
     "iopub.execute_input": "2025-07-29T17:08:18.962226Z",
     "iopub.status.busy": "2025-07-29T17:08:18.961827Z",
     "iopub.status.idle": "2025-07-29T17:08:19.251015Z",
     "shell.execute_reply": "2025-07-29T17:08:19.250195Z"
    },
    "papermill": {
     "duration": 0.299866,
     "end_time": "2025-07-29T17:08:19.252480",
     "exception": false,
     "start_time": "2025-07-29T17:08:18.952614",
     "status": "completed"
    },
    "tags": []
   },
   "outputs": [
    {
     "data": {
      "image/png": "[encoded data removed]",
      "text/plain": [
       "<Figure size 1000x600 with 1 Axes>"
      ]
     },
     "metadata": {},
     "output_type": "display_data"
    }
   ],
   "source": [
    "# Feature importance (coefficients)\n",
    "feature_importance = pd.DataFrame({\n",
    "    'Feature': X.columns,\n",
    "    'Coefficient': model.coef_[0]\n",
    "}).sort_values(by='Coefficient', key=abs, ascending=False)\n",
    "\n",
    "plt.figure(figsize=(10,6))\n",
    "sns.barplot(x='Coefficient', y='Feature', data=feature_importance)\n",
    "plt.title('Feature Importance (Logistic Regression Coefficients)')\n",
    "plt.show()"
   ]
  },
  {
   "cell_type": "code",
   "execution_count": 10,
   "id": "2f9a15c7",
   "metadata": {
    "execution": {
     "iopub.execute_input": "2025-07-29T17:08:19.261568Z",
     "iopub.status.busy": "2025-07-29T17:08:19.261201Z",
     "iopub.status.idle": "2025-07-29T17:08:19.279367Z",
     "shell.execute_reply": "2025-07-29T17:08:19.278256Z"
    },
    "papermill": {
     "duration": 0.024177,
     "end_time": "2025-07-29T17:08:19.280856",
     "exception": false,
     "start_time": "2025-07-29T17:08:19.256679",
     "status": "completed"
    },
    "tags": []
   },
   "outputs": [
    {
     "name": "stdout",
     "output_type": "stream",
     "text": [
      "=== Classification Report ===\n",
      "              precision    recall  f1-score   support\n",
      "\n",
      "           0       0.81      0.98      0.89      1607\n",
      "           1       0.45      0.07      0.12       393\n",
      "\n",
      "    accuracy                           0.80      2000\n",
      "   macro avg       0.63      0.53      0.51      2000\n",
      "weighted avg       0.74      0.80      0.74      2000\n",
      "\n",
      "\n",
      "=== Accuracy ===\n",
      "Accuracy: 80.05\n",
      "\n",
      "=== Confusion Matrix ===\n",
      "[[1573   34]\n",
      " [ 365   28]]\n"
     ]
    }
   ],
   "source": [
    "#Evaluation\n",
    "\n",
    "print(\"=== Classification Report ===\")\n",
    "print(classification_report(y_test, y_pred))\n",
    "\n",
    "print(\"\\n=== Accuracy ===\")\n",
    "print(\"Accuracy:\", (accuracy_score(y_test, y_pred)*100))\n",
    "\n",
    "print(\"\\n=== Confusion Matrix ===\")\n",
    "print(confusion_matrix(y_test, y_pred))"
   ]
  }
 ],
 "metadata": {
  "kaggle": {
   "accelerator": "none",
   "dataSources": [
    {
     "datasetId": 729058,
     "sourceId": 1265963,
     "sourceType": "datasetVersion"
    }
   ],
   "dockerImageVersionId": 31089,
   "isGpuEnabled": false,
   "isInternetEnabled": false,
   "language": "python",
   "sourceType": "notebook"
  },
  "kernelspec": {
   "display_name": "Python 3",
   "language": "python",
   "name": "python3"
  },
  "language_info": {
   "codemirror_mode": {
    "name": "ipython",
    "version": 3
   },
   "file_extension": ".py",
   "mimetype": "text/x-python",
   "name": "python",
   "nbconvert_exporter": "python",
   "pygments_lexer": "ipython3",
   "version": "3.11.13"
  },
  "papermill": {
   "default_parameters": {},
   "duration": 11.444921,
   "end_time": "2025-07-29T17:08:19.904239",
   "environment_variables": {},
   "exception": null,
   "input_path": "__notebook__.ipynb",
   "output_path": "__notebook__.ipynb",
   "parameters": {},
   "start_time": "2025-07-29T17:08:08.459318",
   "version": "2.6.0"
  }
 },
 "nbformat": 4,
 "nbformat_minor": 5
}
